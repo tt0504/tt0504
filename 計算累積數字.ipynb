{
  "nbformat": 4,
  "nbformat_minor": 0,
  "metadata": {
    "colab": {
      "provenance": [],
      "authorship_tag": "ABX9TyM41/xBdi8QS+zFBBWzROrE",
      "include_colab_link": true
    },
    "kernelspec": {
      "name": "python3",
      "display_name": "Python 3"
    },
    "language_info": {
      "name": "python"
    }
  },
  "cells": [
    {
      "cell_type": "markdown",
      "metadata": {
        "id": "view-in-github",
        "colab_type": "text"
      },
      "source": [
        "<a href=\"https://colab.research.google.com/github/tt0504/tt0504/blob/main/%E8%A8%88%E7%AE%97%E7%B4%AF%E7%A9%8D%E6%95%B8%E5%AD%97.ipynb\" target=\"_parent\"><img src=\"https://colab.research.google.com/assets/colab-badge.svg\" alt=\"Open In Colab\"/></a>"
      ]
    },
    {
      "cell_type": "code",
      "execution_count": 1,
      "metadata": {
        "id": "tXr1HHkEtyXz"
      },
      "outputs": [],
      "source": [
        "Q1 = 26295929"
      ]
    },
    {
      "cell_type": "code",
      "source": [
        "Q2 = 27668242"
      ],
      "metadata": {
        "id": "Y34cLiONt-N5"
      },
      "execution_count": 2,
      "outputs": []
    },
    {
      "cell_type": "code",
      "source": [
        "Q3 = 27002293"
      ],
      "metadata": {
        "id": "zhWWXIwruB9Z"
      },
      "execution_count": 3,
      "outputs": []
    },
    {
      "cell_type": "code",
      "source": [
        "Q4 = 28347871"
      ],
      "metadata": {
        "id": "O5BBrFh9uHuS"
      },
      "execution_count": 4,
      "outputs": []
    },
    {
      "cell_type": "code",
      "source": [
        "acc_Q1 = Q1\n",
        "print(acc_Q1)"
      ],
      "metadata": {
        "colab": {
          "base_uri": "https://localhost:8080/"
        },
        "id": "VyJn-gIFuETo",
        "outputId": "23ba7b17-907d-41ea-e345-70ef94b61d64"
      },
      "execution_count": 5,
      "outputs": [
        {
          "output_type": "stream",
          "name": "stdout",
          "text": [
            "26295929\n"
          ]
        }
      ]
    },
    {
      "cell_type": "code",
      "source": [
        "acc_Q2 = Q1 + Q2\n",
        "print(acc_Q2)"
      ],
      "metadata": {
        "colab": {
          "base_uri": "https://localhost:8080/"
        },
        "id": "ET6VnarWukVq",
        "outputId": "464d33a7-a1b0-45bd-a5af-b39496b91cfe"
      },
      "execution_count": 6,
      "outputs": [
        {
          "output_type": "stream",
          "name": "stdout",
          "text": [
            "53964171\n"
          ]
        }
      ]
    },
    {
      "cell_type": "code",
      "source": [
        "acc_Q3 = Q1 + Q2 + Q3\n",
        "print(acc_Q3)"
      ],
      "metadata": {
        "colab": {
          "base_uri": "https://localhost:8080/"
        },
        "id": "ztEcpDECuvSS",
        "outputId": "6e401147-b986-4e8c-9f24-ea34d1c4009e"
      },
      "execution_count": 7,
      "outputs": [
        {
          "output_type": "stream",
          "name": "stdout",
          "text": [
            "80966464\n"
          ]
        }
      ]
    },
    {
      "cell_type": "code",
      "source": [
        "acc_Q4 = Q1 + Q2 + Q3 +Q4\n",
        "print(acc_Q4)"
      ],
      "metadata": {
        "colab": {
          "base_uri": "https://localhost:8080/"
        },
        "id": "rWwo8eCwu18p",
        "outputId": "28c745d2-e108-4aee-9af8-78fa273a7864"
      },
      "execution_count": 8,
      "outputs": [
        {
          "output_type": "stream",
          "name": "stdout",
          "text": [
            "109314335\n"
          ]
        }
      ]
    }
  ]
}